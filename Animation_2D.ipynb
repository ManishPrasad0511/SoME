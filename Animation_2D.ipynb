{
  "nbformat": 4,
  "nbformat_minor": 0,
  "metadata": {
    "colab": {
      "name": "Animation_2D.ipynb",
      "provenance": [],
      "collapsed_sections": [],
      "authorship_tag": "ABX9TyPgY3hrQmcZcZrJag1FfiLx",
      "include_colab_link": true
    },
    "kernelspec": {
      "name": "python3",
      "display_name": "Python 3"
    },
    "language_info": {
      "name": "python"
    }
  },
  "cells": [
    {
      "cell_type": "markdown",
      "metadata": {
        "id": "view-in-github",
        "colab_type": "text"
      },
      "source": [
        "<a href=\"https://colab.research.google.com/github/ManishPrasad0511/SoME/blob/main/Animation_2D.ipynb\" target=\"_parent\"><img src=\"https://colab.research.google.com/assets/colab-badge.svg\" alt=\"Open In Colab\"/></a>"
      ]
    },
    {
      "cell_type": "markdown",
      "source": [
        "#  The Summer of Math Exposition 2022\n",
        "\n",
        "This notebook has the code for the thumbnail, and the outro animation 12:03 to 13:35 in my video:\n",
        "https://youtu.be/2-iuxnpJFKU\n",
        "\n",
        "This code only works for N greater than or equal to 2."
      ],
      "metadata": {
        "id": "lz6-BlVxJGLl"
      }
    },
    {
      "cell_type": "markdown",
      "source": [
        "To run this is google colab, first uncomment the following cell and then run it. Next, click on 'Restart and run all' in 'Runtime' option at the top. You could also just click 'Restart runtime' if you want to run the cells individually to understand them. "
      ],
      "metadata": {
        "id": "0A8n05rFa1hF"
      }
    },
    {
      "cell_type": "code",
      "execution_count": null,
      "metadata": {
        "id": "qjHPCJZZCTDQ"
      },
      "outputs": [],
      "source": [
        "# Uncomment the following line if running in Google Colab\n",
        "''' !sudo apt update\n",
        "!sudo apt install libcairo2-dev ffmpeg \\\n",
        "    texlive texlive-latex-extra texlive-fonts-extra \\\n",
        "    texlive-latex-recommended texlive-science \\\n",
        "    tipa libpango1.0-dev\n",
        "!pip install IPython --upgrade  \n",
        "!pip install manim '''"
      ]
    },
    {
      "cell_type": "markdown",
      "source": [
        "The version I used to make my video is: Manim Community v0.16.0.post0"
      ],
      "metadata": {
        "id": "Of6tYv34cFiF"
      }
    },
    {
      "cell_type": "code",
      "source": [
        "from manim import *\n",
        "import numpy as np\n",
        "import itertools"
      ],
      "metadata": {
        "colab": {
          "base_uri": "https://localhost:8080/",
          "height": 49
        },
        "id": "tzswCYlIJfgQ",
        "outputId": "b82c628f-311d-44bb-e821-c70316252e50"
      },
      "execution_count": 2,
      "outputs": [
        {
          "output_type": "display_data",
          "data": {
            "text/plain": [
              "Manim Community \u001b[32mv0.\u001b[0m\u001b[32m16.0\u001b[0m\u001b[32m.post0\u001b[0m\n",
              "\n"
            ],
            "text/html": [
              "<pre style=\"white-space:pre;overflow-x:auto;line-height:normal;font-family:Menlo,'DejaVu Sans Mono',consolas,'Courier New',monospace\">Manim Community <span style=\"color: #008000; text-decoration-color: #008000\">v0.16.0.post0</span>\n",
              "\n",
              "</pre>\n"
            ]
          },
          "metadata": {}
        }
      ]
    },
    {
      "cell_type": "markdown",
      "source": [
        "Choose N>=2\\\n",
        "You can make your own animations by playing around with the following parameters. But manim has fixed dimensions of the screen and it is 14.2 units horizontally and 8 units vertially. So make sure that you choose a and b appropriately otherwise the image doesn't fit in the screen. And you always the scale down your units using appropriate ratios so that it fits in the screen."
      ],
      "metadata": {
        "id": "s1hggFt6cMNm"
      }
    },
    {
      "cell_type": "code",
      "source": [
        "a = 8                   # length\n",
        "b = 6                   # breadth\n",
        "sides = [a,b]\n",
        "N = 7                   # Value of N (see the question) CHOOSE N>=2\n",
        "p1 = [-2,1]             # coordinate of 1st point\n",
        "p2 = [0,-2]             # coordinate of 2nd point\n",
        "d = 2"
      ],
      "metadata": {
        "id": "vK2fhedKJgAH"
      },
      "execution_count": 3,
      "outputs": []
    },
    {
      "cell_type": "markdown",
      "source": [
        "The following cell gives the coordinates of all the 8 solutions in the outer grid."
      ],
      "metadata": {
        "id": "1haCJ0u5dft2"
      }
    },
    {
      "cell_type": "code",
      "source": [
        "signs  = list(itertools.product([1, -1], repeat=d))\n",
        "final_pts = []\n",
        "for i in signs:\n",
        "  shifted_p2 = p2 + 2*(N-1)*np.multiply(i,sides)\n",
        "  for j in range(d):\n",
        "    final_shift = np.zeros(d)\n",
        "    final_shift[j] = np.multiply(i,2*(sides[j]/2 - i[j]*(p2[j])))[j]\n",
        "    final_pts.append(shifted_p2 + final_shift)"
      ],
      "metadata": {
        "id": "Sr0QjGWmJj-G"
      },
      "execution_count": 4,
      "outputs": []
    },
    {
      "cell_type": "markdown",
      "source": [
        "The array final_coords_all at the end of this code has the coordinates of all the reflection points on the walls for all the 8 solutions.\\\n",
        "final_coords_all = [ [array of all reflection points for 1st outer coordinate] , [2nd] , .  . [8th] ]\\\n",
        "array of all reflection points for 1st outer coordinate = [ [x1,y1] , [x2,y2] . .[x8,y8] ]"
      ],
      "metadata": {
        "id": "at3ejiUheKb9"
      }
    },
    {
      "cell_type": "code",
      "source": [
        "final_coords_all = []\n",
        "final_coord_out = []\n",
        "for p in final_pts:\n",
        "\n",
        "  x_inters = abs(p[0])//(sides[0]/2) - abs(p[0])//sides[0]\n",
        "  y_inters = abs(p[1])//(sides[1]/2) - abs(p[1])//sides[1]\n",
        "  m = (p[1]-p1[1]) / (p[0]-p1[0])\n",
        "\n",
        "  vert_walls = []\n",
        "  horz_walls = []\n",
        "  if p[0]>=0:\n",
        "    x_start = sides[0]/2\n",
        "  else:\n",
        "    x_start = -sides[0]/2\n",
        "  if p[1]>0:\n",
        "    y_start = sides[1]/2\n",
        "  else:\n",
        "    y_start = -sides[1]/2\n",
        "\n",
        "  for i in np.arange(x_inters):\n",
        "    y = p1[1] + m*(x_start-p1[0])\n",
        "    vert_walls.append([x_start,y])\n",
        "    x_start = x_start + np.sign(p[0])*sides[0]\n",
        "\n",
        "  for i in np.arange(y_inters):\n",
        "    x = p1[0] + (y_start-p1[1])/m\n",
        "    horz_walls.append([x,y_start])\n",
        "    y_start = y_start + np.sign(p[1])*sides[1]\n",
        "\n",
        "  all_inters = np.array(vert_walls+horz_walls)\n",
        "  indexlist =np.argsort(np.linalg.norm(all_inters,axis=1))\n",
        "  all_inters = all_inters[indexlist]\n",
        "  final_coord_out.append(all_inters)\n",
        "\n",
        "  grid_dim = []\n",
        "  grid_coords = []\n",
        "  final_coords = []\n",
        "  for i in range(len(all_inters)):\n",
        "    all_inters[i] += np.array(sides)/2\n",
        "    grid_dim.append([all_inters[i][0]%sides[0] , all_inters[i][1]%sides[1]])\n",
        "    grid_coords.append([all_inters[i][0]//sides[0] , all_inters[i][1]//sides[1]])\n",
        "    single_final_coord=np.zeros(d)\n",
        "    for j in range(d):\n",
        "      if grid_coords[i][j]%2 == 0:\n",
        "        single_final_coord[j] = (grid_dim[i][j]) - sides[j]/2\n",
        "      else:\n",
        "        single_final_coord[j] = sides[j] - (grid_dim[i][j]) - sides[j]/2\n",
        "    \n",
        "    final_coords.append(single_final_coord)\n",
        "\n",
        "  final_coords_all.append(final_coords)\n",
        "  "
      ],
      "metadata": {
        "id": "2sNsC48uJkwm"
      },
      "execution_count": 8,
      "outputs": []
    },
    {
      "cell_type": "markdown",
      "source": [
        "To make my thumbnail, I chose N=7. And instead of animating the whole thing, I just the self.add() command to create an image since I only need an image."
      ],
      "metadata": {
        "id": "YGFS6gjMfgBc"
      }
    },
    {
      "cell_type": "code",
      "source": [
        "%%manim thumbnail\n",
        "class thumbnail(Scene):\n",
        "    def construct(self):\n",
        "      rect = Rectangle(width=sides[0], height=sides[1])\n",
        "\n",
        "      d1 = Dot(point=np.array([p1[0],p1[1], 0.]) , color=BLUE)\n",
        "      d6 = Dot(point=np.array([p2[0], p2[1], 0.]) , color=BLUE)\n",
        "      \n",
        "      bruh = [final_coords_all[5]]\n",
        "      for i in range(len(bruh)):\n",
        "        dots = [d1]\n",
        "        for j in range(len(bruh[i])):\n",
        "          dots.append(Dot(point=np.array([bruh[i][j][0],bruh[i][j][1], 0.]) , color=BLUE))\n",
        "          line = Line(start=dots[-2].get_center() , end=dots[-1].get_center())\n",
        "          self.add(line)\n",
        "        line = Line(start=dots[-1].get_center() , end=d6.get_center())\n",
        "        self.add(line)\n",
        "      self.add(rect,d1,d6)\n"
      ],
      "metadata": {
        "id": "f9SYJdiWZ2Am"
      },
      "execution_count": null,
      "outputs": []
    },
    {
      "cell_type": "markdown",
      "source": [
        "The following cell is important for making the animation. In Manim, for shifting one point to another, we need the difference between the coordinates. So I converted the array final_coords_all to an array of all the \"shifts\" I need to make my animation."
      ],
      "metadata": {
        "id": "-6FObYLXf7NS"
      }
    },
    {
      "cell_type": "code",
      "source": [
        "for i in range(len(final_coords_all)):\n",
        "  for j in range(len(final_coords_all[i])-1,-1,-1):\n",
        "    if j==len(final_coords_all[i])-1:\n",
        "      final_coords_all[i].append( np.array(p2) - final_coords_all[i][j])\n",
        "    if j==0:\n",
        "      final_coords_all[i][j] -= np.array(p1)\n",
        "    else:\n",
        "      final_coords_all[i][j] -=  final_coords_all[i][j-1]"
      ],
      "metadata": {
        "id": "16qBsat7Z4Qs"
      },
      "execution_count": 10,
      "outputs": []
    },
    {
      "cell_type": "markdown",
      "source": [
        "This cell is for making the animation. Instead of doing making the previous cell, I could have incorporated that whole thing in the following cell and it would definitely be a better way to do it since it wouldn't destroy what the array final_coords_all was before. You can work this out if you want to."
      ],
      "metadata": {
        "id": "DCJPigNpgQrL"
      }
    },
    {
      "cell_type": "code",
      "source": [
        "%%manim rect_mirror\n",
        "class rect_mirror(Scene):\n",
        "    def construct(self):\n",
        "      rect = Rectangle(width=sides[0], height=sides[1])\n",
        "\n",
        "      dot = Dot(point=np.array([p1[0],p1[1], 0.]) , color=BLUE)\n",
        "      d6 = Dot(point=np.array([p2[0], p2[1], 0.]) , color=BLUE)\n",
        "      \n",
        "      def update_path(path):\n",
        "            previous_path = path.copy()\n",
        "            previous_path.add_points_as_corners([dot.get_center()])\n",
        "            path.become(previous_path)\n",
        "      \n",
        "      self.add(rect)\n",
        "      self.wait()\n",
        "      self.add(dot,d6)\n",
        "      self.wait()\n",
        "      \n",
        "      for i in range(len(final_coords_all)):\n",
        "        dot = Dot(point=np.array([p1[0],p1[1], 0.]) , color=BLUE)\n",
        "\n",
        "        path = VMobject()     \n",
        "        path.set_points_as_corners([dot.get_center(), dot.get_center()])\n",
        "        path.add_updater(update_path)\n",
        "        \n",
        "        self.add(path, dot)\n",
        "        dot.generate_target()\n",
        "        for j in range(len(final_coords_all[i])):\n",
        "          dot.target.shift(final_coords_all[i][j][0]*RIGHT,final_coords_all[i][j][1]*UP)\n",
        "          self.play(MoveToTarget(dot))\n",
        "\n",
        "        self.play(FadeOut(dot,path))\n",
        "        self.remove(dot,path)"
      ],
      "metadata": {
        "id": "_wIJSSwkJl_J"
      },
      "execution_count": null,
      "outputs": []
    }
  ]
}